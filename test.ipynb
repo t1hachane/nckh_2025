{
 "cells": [
  {
   "cell_type": "code",
   "execution_count": 9,
   "metadata": {},
   "outputs": [
    {
     "name": "stdout",
     "output_type": "stream",
     "text": [
      "tensor([[0., 0., 0.],\n",
      "        [0., 0., 0.]])\n",
      "tensor([[0., 0., 0., 0., 0., 0.]])\n"
     ]
    }
   ],
   "source": [
    "import torch\n",
    "\n",
    "feature = {\n",
    "    0: torch.tensor([0.0000e+00, 0.0000e+00], device='cpu'),\n",
    "    1: torch.tensor([0.0000e+00, 0.0000e+00], device='cpu',),\n",
    "    2: torch.tensor([0.0000, 0.0000], device='cpu')\n",
    "}\n",
    "MMfeature = torch.cat([i.unsqueeze(1) for i in feature.values()], dim=1)\n",
    "MMfeature1 = torch.cat([i.unsqueeze(0) for i in feature.values()], dim=1)\n",
    "print(MMfeature)\n",
    "print(MMfeature1)"
   ]
  }
 ],
 "metadata": {
  "kernelspec": {
   "display_name": "Python 3",
   "language": "python",
   "name": "python3"
  },
  "language_info": {
   "codemirror_mode": {
    "name": "ipython",
    "version": 3
   },
   "file_extension": ".py",
   "mimetype": "text/x-python",
   "name": "python",
   "nbconvert_exporter": "python",
   "pygments_lexer": "ipython3",
   "version": "3.12.6"
  }
 },
 "nbformat": 4,
 "nbformat_minor": 2
}
